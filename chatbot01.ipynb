{
 "cells": [
  {
   "cell_type": "code",
   "execution_count": 1,
   "metadata": {},
   "outputs": [
    {
     "name": "stdout",
     "output_type": "stream",
     "text": [
      "Requirement already satisfied: newspaper3k in c:\\users\\elgha\\anaconda3\\lib\\site-packages (0.2.8)\n",
      "Requirement already satisfied: cssselect>=0.9.2 in c:\\users\\elgha\\anaconda3\\lib\\site-packages (from newspaper3k) (1.1.0)\n",
      "Requirement already satisfied: beautifulsoup4>=4.4.1 in c:\\users\\elgha\\anaconda3\\lib\\site-packages (from newspaper3k) (4.8.0)\n",
      "Requirement already satisfied: jieba3k>=0.35.1 in c:\\users\\elgha\\anaconda3\\lib\\site-packages (from newspaper3k) (0.35.1)\n",
      "Requirement already satisfied: feedparser>=5.2.1 in c:\\users\\elgha\\anaconda3\\lib\\site-packages (from newspaper3k) (5.2.1)\n",
      "Requirement already satisfied: lxml>=3.6.0 in c:\\users\\elgha\\anaconda3\\lib\\site-packages (from newspaper3k) (4.4.1)\n",
      "Requirement already satisfied: PyYAML>=3.11 in c:\\users\\elgha\\anaconda3\\lib\\site-packages (from newspaper3k) (5.1.2)\n",
      "Requirement already satisfied: python-dateutil>=2.5.3 in c:\\users\\elgha\\anaconda3\\lib\\site-packages (from newspaper3k) (2.8.0)\n",
      "Requirement already satisfied: tinysegmenter==0.3 in c:\\users\\elgha\\anaconda3\\lib\\site-packages (from newspaper3k) (0.3)\n",
      "Requirement already satisfied: feedfinder2>=0.0.4 in c:\\users\\elgha\\anaconda3\\lib\\site-packages (from newspaper3k) (0.0.4)\n",
      "Requirement already satisfied: Pillow>=3.3.0 in c:\\users\\elgha\\anaconda3\\lib\\site-packages (from newspaper3k) (6.2.0)\n",
      "Requirement already satisfied: nltk>=3.2.1 in c:\\users\\elgha\\anaconda3\\lib\\site-packages (from newspaper3k) (3.4.5)\n",
      "Requirement already satisfied: requests>=2.10.0 in c:\\users\\elgha\\anaconda3\\lib\\site-packages (from newspaper3k) (2.22.0)\n",
      "Requirement already satisfied: tldextract>=2.0.1 in c:\\users\\elgha\\anaconda3\\lib\\site-packages (from newspaper3k) (2.2.2)\n",
      "Requirement already satisfied: soupsieve>=1.2 in c:\\users\\elgha\\anaconda3\\lib\\site-packages (from beautifulsoup4>=4.4.1->newspaper3k) (1.9.3)\n",
      "Requirement already satisfied: six>=1.5 in c:\\users\\elgha\\anaconda3\\lib\\site-packages (from python-dateutil>=2.5.3->newspaper3k) (1.12.0)\n",
      "Requirement already satisfied: urllib3!=1.25.0,!=1.25.1,<1.26,>=1.21.1 in c:\\users\\elgha\\anaconda3\\lib\\site-packages (from requests>=2.10.0->newspaper3k) (1.24.2)\n",
      "Requirement already satisfied: idna<2.9,>=2.5 in c:\\users\\elgha\\anaconda3\\lib\\site-packages (from requests>=2.10.0->newspaper3k) (2.8)\n",
      "Requirement already satisfied: chardet<3.1.0,>=3.0.2 in c:\\users\\elgha\\anaconda3\\lib\\site-packages (from requests>=2.10.0->newspaper3k) (3.0.4)\n",
      "Requirement already satisfied: certifi>=2017.4.17 in c:\\users\\elgha\\anaconda3\\lib\\site-packages (from requests>=2.10.0->newspaper3k) (2019.9.11)\n",
      "Requirement already satisfied: requests-file>=1.4 in c:\\users\\elgha\\anaconda3\\lib\\site-packages (from tldextract>=2.0.1->newspaper3k) (1.4.3)\n",
      "Requirement already satisfied: setuptools in c:\\users\\elgha\\anaconda3\\lib\\site-packages (from tldextract>=2.0.1->newspaper3k) (41.4.0)\n"
     ]
    }
   ],
   "source": [
    "#install the package newspaper 3k\n",
    "!pip install newspaper3k"
   ]
  },
  {
   "cell_type": "code",
   "execution_count": 2,
   "metadata": {},
   "outputs": [],
   "source": [
    "#import libraries\n",
    "from newspaper import Article\n",
    "import random\n",
    "import string\n",
    "from sklearn.feature_extraction.text import TfidfVectorizer\n",
    "from sklearn.metrics.pairwise import cosine_similarity\n",
    "import nltk\n",
    "import numpy as np\n",
    "import warnings\n",
    "import re"
   ]
  },
  {
   "cell_type": "code",
   "execution_count": 3,
   "metadata": {},
   "outputs": [],
   "source": [
    "#Ignore warnings \n",
    "warnings.filterwarnings(\"ignore\")"
   ]
  },
  {
   "cell_type": "code",
   "execution_count": 4,
   "metadata": {},
   "outputs": [
    {
     "name": "stderr",
     "output_type": "stream",
     "text": [
      "[nltk_data] Downloading package punkt to\n",
      "[nltk_data]     C:\\Users\\elgha\\AppData\\Roaming\\nltk_data...\n",
      "[nltk_data]   Package punkt is already up-to-date!\n",
      "[nltk_data] Downloading package wordnet to\n",
      "[nltk_data]     C:\\Users\\elgha\\AppData\\Roaming\\nltk_data...\n",
      "[nltk_data]   Package wordnet is already up-to-date!\n"
     ]
    },
    {
     "data": {
      "text/plain": [
       "True"
      ]
     },
     "execution_count": 4,
     "metadata": {},
     "output_type": "execute_result"
    }
   ],
   "source": [
    "#Download the packages from NLTK\n",
    "nltk.download(\"punkt\")\n",
    "nltk.download(\"wordnet\")"
   ]
  },
  {
   "cell_type": "code",
   "execution_count": 5,
   "metadata": {},
   "outputs": [],
   "source": [
    "#Get the Article URL\n",
    "article=Article(\"https://www.mayoclinic.org/diseases-conditions/depression/symptoms-causes/syc-20356007\")\n",
    "article.download()\n",
    "article.parse()\n",
    "article.nlp()\n",
    "corpus=article.text"
   ]
  },
  {
   "cell_type": "code",
   "execution_count": 6,
   "metadata": {},
   "outputs": [
    {
     "name": "stdout",
     "output_type": "stream",
     "text": [
      "Overview\n",
      "\n",
      "Depression is a mood disorder that causes a persistent feeling of sadness and loss of interest. Also called major depressive disorder or clinical depression, it affects how you feel, think and behave and can lead to a variety of emotional and physical problems. You may have trouble doing normal day-to-day activities, and sometimes you may feel as if life isn't worth living.\n",
      "\n",
      "More than just a bout of the blues, depression isn't a weakness and you can't simply \"snap out\" of it. Depression may require long-term treatment. But don't get discouraged. Most people with depression feel better with medication, psychotherapy or both.\n",
      "\n",
      "Depression care at Mayo Clinic\n",
      "\n",
      "Symptoms\n",
      "\n",
      "Although depression may occur only once during your life, people typically have multiple episodes. During these episodes, symptoms occur most of the day, nearly every day and may include:\n",
      "\n",
      "Feelings of sadness, tearfulness, emptiness or hopelessness\n",
      "\n",
      "Angry outbursts, irritability or frustration, even over small matters\n",
      "\n",
      "Loss of interest or pleasure in most or all normal activities, such as sex, hobbies or sports\n",
      "\n",
      "Sleep disturbances, including insomnia or sleeping too much\n",
      "\n",
      "Tiredness and lack of energy, so even small tasks take extra effort\n",
      "\n",
      "Reduced appetite and weight loss or increased cravings for food and weight gain\n",
      "\n",
      "Anxiety, agitation or restlessness\n",
      "\n",
      "Slowed thinking, speaking or body movements\n",
      "\n",
      "Feelings of worthlessness or guilt, fixating on past failures or self-blame\n",
      "\n",
      "Trouble thinking, concentrating, making decisions and remembering things\n",
      "\n",
      "Frequent or recurrent thoughts of death, suicidal thoughts, suicide attempts or suicide\n",
      "\n",
      "Unexplained physical problems, such as back pain or headaches\n",
      "\n",
      "For many people with depression, symptoms usually are severe enough to cause noticeable problems in day-to-day activities, such as work, school, social activities or relationships with others. Some people may feel generally miserable or unhappy without really knowing why.\n",
      "\n",
      "Depression symptoms in children and teens\n",
      "\n",
      "Common signs and symptoms of depression in children and teenagers are similar to those of adults, but there can be some differences.\n",
      "\n",
      "In younger children, symptoms of depression may include sadness, irritability, clinginess, worry, aches and pains, refusing to go to school, or being underweight.\n",
      "\n",
      "In teens, symptoms may include sadness, irritability, feeling negative and worthless, anger, poor performance or poor attendance at school, feeling misunderstood and extremely sensitive, using recreational drugs or alcohol, eating or sleeping too much, self-harm, loss of interest in normal activities, and avoidance of social interaction.\n",
      "\n",
      "Depression symptoms in older adults\n",
      "\n",
      "Depression is not a normal part of growing older, and it should never be taken lightly. Unfortunately, depression often goes undiagnosed and untreated in older adults, and they may feel reluctant to seek help. Symptoms of depression may be different or less obvious in older adults, such as:\n",
      "\n",
      "Memory difficulties or personality changes\n",
      "\n",
      "Physical aches or pain\n",
      "\n",
      "Fatigue, loss of appetite, sleep problems or loss of interest in sex — not caused by a medical condition or medication\n",
      "\n",
      "Often wanting to stay at home, rather than going out to socialize or doing new things\n",
      "\n",
      "Suicidal thinking or feelings, especially in older men\n",
      "\n",
      "When to see a doctor\n",
      "\n",
      "If you feel depressed, make an appointment to see your doctor or mental health professional as soon as you can. If you're reluctant to seek treatment, talk to a friend or loved one, any health care professional, a faith leader, or someone else you trust.\n",
      "\n",
      "When to get emergency help\n",
      "\n",
      "If you think you may hurt yourself or attempt suicide, call 911 or your local emergency number immediately.\n",
      "\n",
      "Also consider these options if you're having suicidal thoughts:\n",
      "\n",
      "Call your doctor or mental health professional.\n",
      "\n",
      "Call a suicide hotline number — in the U.S., call the National Suicide Prevention Lifeline at 1-800-273-TALK (1-800-273-8255). Use that same number and press \"1\" to reach the Veterans Crisis Line.\n",
      "\n",
      "Reach out to a close friend or loved one.\n",
      "\n",
      "Contact a minister, spiritual leader or someone else in your faith community.\n",
      "\n",
      "If you have a loved one who is in danger of suicide or has made a suicide attempt, make sure someone stays with that person. Call 911 or your local emergency number immediately. Or, if you think you can do so safely, take the person to the nearest hospital emergency room.\n",
      "\n",
      "Causes\n",
      "\n",
      "It's not known exactly what causes depression. As with many mental disorders, a variety of factors may be involved, such as:\n",
      "\n",
      "Biological differences. People with depression appear to have physical changes in their brains. The significance of these changes is still uncertain, but may eventually help pinpoint causes.\n",
      "\n",
      "People with depression appear to have physical changes in their brains. The significance of these changes is still uncertain, but may eventually help pinpoint causes. Brain chemistry. Neurotransmitters are naturally occurring brain chemicals that likely play a role in depression. Recent research indicates that changes in the function and effect of these neurotransmitters and how they interact with neurocircuits involved in maintaining mood stability may play a significant role in depression and its treatment.\n",
      "\n",
      "Neurotransmitters are naturally occurring brain chemicals that likely play a role in depression. Recent research indicates that changes in the function and effect of these neurotransmitters and how they interact with neurocircuits involved in maintaining mood stability may play a significant role in depression and its treatment. Hormones. Changes in the body's balance of hormones may be involved in causing or triggering depression. Hormone changes can result with pregnancy and during the weeks or months after delivery (postpartum) and from thyroid problems, menopause or a number of other conditions.\n",
      "\n",
      "Changes in the body's balance of hormones may be involved in causing or triggering depression. Hormone changes can result with pregnancy and during the weeks or months after delivery (postpartum) and from thyroid problems, menopause or a number of other conditions. Inherited traits. Depression is more common in people whose blood relatives also have this condition. Researchers are trying to find genes that may be involved in causing depression.\n",
      "\n",
      "Risk factors\n",
      "\n",
      "Depression often begins in the teens, 20s or 30s, but it can happen at any age. More women than men are diagnosed with depression, but this may be due in part because women are more likely to seek treatment.\n",
      "\n",
      "Factors that seem to increase the risk of developing or triggering depression include:\n",
      "\n",
      "Certain personality traits, such as low self-esteem and being too dependent, self-critical or pessimistic\n",
      "\n",
      "Traumatic or stressful events, such as physical or sexual abuse, the death or loss of a loved one, a difficult relationship, or financial problems\n",
      "\n",
      "Blood relatives with a history of depression, bipolar disorder, alcoholism or suicide\n",
      "\n",
      "Being lesbian, gay, bisexual or transgender, or having variations in the development of genital organs that aren't clearly male or female (intersex) in an unsupportive situation\n",
      "\n",
      "History of other mental health disorders, such as anxiety disorder, eating disorders or post-traumatic stress disorder\n",
      "\n",
      "Abuse of alcohol or recreational drugs\n",
      "\n",
      "Serious or chronic illness, including cancer, stroke, chronic pain or heart disease\n",
      "\n",
      "Certain medications, such as some high blood pressure medications or sleeping pills (talk to your doctor before stopping any medication)\n",
      "\n",
      "Complications\n",
      "\n",
      "Depression is a serious disorder that can take a terrible toll on you and your family. Depression often gets worse if it isn't treated, resulting in emotional, behavioral and health problems that affect every area of your life.\n",
      "\n",
      "Examples of complications associated with depression include:\n",
      "\n",
      "Excess weight or obesity, which can lead to heart disease and diabetes\n",
      "\n",
      "Pain or physical illness\n",
      "\n",
      "Alcohol or drug misuse\n",
      "\n",
      "Anxiety, panic disorder or social phobia\n",
      "\n",
      "Family conflicts, relationship difficulties, and work or school problems\n",
      "\n",
      "Social isolation\n",
      "\n",
      "Suicidal feelings, suicide attempts or suicide\n",
      "\n",
      "Self-mutilation, such as cutting\n",
      "\n",
      "Premature death from medical conditions\n",
      "\n",
      "Prevention\n",
      "\n",
      "There's no sure way to prevent depression. However, these strategies may help.\n"
     ]
    }
   ],
   "source": [
    "text=corpus\n",
    "print(text)"
   ]
  },
  {
   "cell_type": "code",
   "execution_count": 7,
   "metadata": {},
   "outputs": [
    {
     "name": "stdout",
     "output_type": "stream",
     "text": [
      "['Overview\\n\\nDepression is a mood disorder that causes a persistent feeling of sadness and loss of interest.', 'Also called major depressive disorder or clinical depression, it affects how you feel, think and behave and can lead to a variety of emotional and physical problems.', \"You may have trouble doing normal day-to-day activities, and sometimes you may feel as if life isn't worth living.\", 'More than just a bout of the blues, depression isn\\'t a weakness and you can\\'t simply \"snap out\" of it.', 'Depression may require long-term treatment.', \"But don't get discouraged.\", 'Most people with depression feel better with medication, psychotherapy or both.', 'Depression care at Mayo Clinic\\n\\nSymptoms\\n\\nAlthough depression may occur only once during your life, people typically have multiple episodes.', 'During these episodes, symptoms occur most of the day, nearly every day and may include:\\n\\nFeelings of sadness, tearfulness, emptiness or hopelessness\\n\\nAngry outbursts, irritability or frustration, even over small matters\\n\\nLoss of interest or pleasure in most or all normal activities, such as sex, hobbies or sports\\n\\nSleep disturbances, including insomnia or sleeping too much\\n\\nTiredness and lack of energy, so even small tasks take extra effort\\n\\nReduced appetite and weight loss or increased cravings for food and weight gain\\n\\nAnxiety, agitation or restlessness\\n\\nSlowed thinking, speaking or body movements\\n\\nFeelings of worthlessness or guilt, fixating on past failures or self-blame\\n\\nTrouble thinking, concentrating, making decisions and remembering things\\n\\nFrequent or recurrent thoughts of death, suicidal thoughts, suicide attempts or suicide\\n\\nUnexplained physical problems, such as back pain or headaches\\n\\nFor many people with depression, symptoms usually are severe enough to cause noticeable problems in day-to-day activities, such as work, school, social activities or relationships with others.', 'Some people may feel generally miserable or unhappy without really knowing why.', 'Depression symptoms in children and teens\\n\\nCommon signs and symptoms of depression in children and teenagers are similar to those of adults, but there can be some differences.', 'In younger children, symptoms of depression may include sadness, irritability, clinginess, worry, aches and pains, refusing to go to school, or being underweight.', 'In teens, symptoms may include sadness, irritability, feeling negative and worthless, anger, poor performance or poor attendance at school, feeling misunderstood and extremely sensitive, using recreational drugs or alcohol, eating or sleeping too much, self-harm, loss of interest in normal activities, and avoidance of social interaction.', 'Depression symptoms in older adults\\n\\nDepression is not a normal part of growing older, and it should never be taken lightly.', 'Unfortunately, depression often goes undiagnosed and untreated in older adults, and they may feel reluctant to seek help.', 'Symptoms of depression may be different or less obvious in older adults, such as:\\n\\nMemory difficulties or personality changes\\n\\nPhysical aches or pain\\n\\nFatigue, loss of appetite, sleep problems or loss of interest in sex — not caused by a medical condition or medication\\n\\nOften wanting to stay at home, rather than going out to socialize or doing new things\\n\\nSuicidal thinking or feelings, especially in older men\\n\\nWhen to see a doctor\\n\\nIf you feel depressed, make an appointment to see your doctor or mental health professional as soon as you can.', \"If you're reluctant to seek treatment, talk to a friend or loved one, any health care professional, a faith leader, or someone else you trust.\", 'When to get emergency help\\n\\nIf you think you may hurt yourself or attempt suicide, call 911 or your local emergency number immediately.', \"Also consider these options if you're having suicidal thoughts:\\n\\nCall your doctor or mental health professional.\", 'Call a suicide hotline number — in the U.S., call the National Suicide Prevention Lifeline at 1-800-273-TALK (1-800-273-8255).', 'Use that same number and press \"1\" to reach the Veterans Crisis Line.', 'Reach out to a close friend or loved one.', 'Contact a minister, spiritual leader or someone else in your faith community.', 'If you have a loved one who is in danger of suicide or has made a suicide attempt, make sure someone stays with that person.', 'Call 911 or your local emergency number immediately.', 'Or, if you think you can do so safely, take the person to the nearest hospital emergency room.', \"Causes\\n\\nIt's not known exactly what causes depression.\", 'As with many mental disorders, a variety of factors may be involved, such as:\\n\\nBiological differences.', 'People with depression appear to have physical changes in their brains.', 'The significance of these changes is still uncertain, but may eventually help pinpoint causes.', 'People with depression appear to have physical changes in their brains.', 'The significance of these changes is still uncertain, but may eventually help pinpoint causes.', 'Brain chemistry.', 'Neurotransmitters are naturally occurring brain chemicals that likely play a role in depression.', 'Recent research indicates that changes in the function and effect of these neurotransmitters and how they interact with neurocircuits involved in maintaining mood stability may play a significant role in depression and its treatment.', 'Neurotransmitters are naturally occurring brain chemicals that likely play a role in depression.', 'Recent research indicates that changes in the function and effect of these neurotransmitters and how they interact with neurocircuits involved in maintaining mood stability may play a significant role in depression and its treatment.', 'Hormones.', \"Changes in the body's balance of hormones may be involved in causing or triggering depression.\", 'Hormone changes can result with pregnancy and during the weeks or months after delivery (postpartum) and from thyroid problems, menopause or a number of other conditions.', \"Changes in the body's balance of hormones may be involved in causing or triggering depression.\", 'Hormone changes can result with pregnancy and during the weeks or months after delivery (postpartum) and from thyroid problems, menopause or a number of other conditions.', 'Inherited traits.', 'Depression is more common in people whose blood relatives also have this condition.', 'Researchers are trying to find genes that may be involved in causing depression.', 'Risk factors\\n\\nDepression often begins in the teens, 20s or 30s, but it can happen at any age.', 'More women than men are diagnosed with depression, but this may be due in part because women are more likely to seek treatment.', \"Factors that seem to increase the risk of developing or triggering depression include:\\n\\nCertain personality traits, such as low self-esteem and being too dependent, self-critical or pessimistic\\n\\nTraumatic or stressful events, such as physical or sexual abuse, the death or loss of a loved one, a difficult relationship, or financial problems\\n\\nBlood relatives with a history of depression, bipolar disorder, alcoholism or suicide\\n\\nBeing lesbian, gay, bisexual or transgender, or having variations in the development of genital organs that aren't clearly male or female (intersex) in an unsupportive situation\\n\\nHistory of other mental health disorders, such as anxiety disorder, eating disorders or post-traumatic stress disorder\\n\\nAbuse of alcohol or recreational drugs\\n\\nSerious or chronic illness, including cancer, stroke, chronic pain or heart disease\\n\\nCertain medications, such as some high blood pressure medications or sleeping pills (talk to your doctor before stopping any medication)\\n\\nComplications\\n\\nDepression is a serious disorder that can take a terrible toll on you and your family.\", \"Depression often gets worse if it isn't treated, resulting in emotional, behavioral and health problems that affect every area of your life.\", \"Examples of complications associated with depression include:\\n\\nExcess weight or obesity, which can lead to heart disease and diabetes\\n\\nPain or physical illness\\n\\nAlcohol or drug misuse\\n\\nAnxiety, panic disorder or social phobia\\n\\nFamily conflicts, relationship difficulties, and work or school problems\\n\\nSocial isolation\\n\\nSuicidal feelings, suicide attempts or suicide\\n\\nSelf-mutilation, such as cutting\\n\\nPremature death from medical conditions\\n\\nPrevention\\n\\nThere's no sure way to prevent depression.\", 'However, these strategies may help.']\n"
     ]
    }
   ],
   "source": [
    "#Sentece Tokenization\n",
    "\n",
    "sent_tokens=nltk.sent_tokenize(text)\n",
    "print(sent_tokens)"
   ]
  },
  {
   "cell_type": "code",
   "execution_count": 8,
   "metadata": {},
   "outputs": [],
   "source": [
    "#Remove Punctuation\n",
    "remove_punct_dict=dict( (ord(punct),None)for punct in string.punctuation)"
   ]
  },
  {
   "cell_type": "code",
   "execution_count": 9,
   "metadata": {},
   "outputs": [
    {
     "name": "stdout",
     "output_type": "stream",
     "text": [
      "{33: None, 34: None, 35: None, 36: None, 37: None, 38: None, 39: None, 40: None, 41: None, 42: None, 43: None, 44: None, 45: None, 46: None, 47: None, 58: None, 59: None, 60: None, 61: None, 62: None, 63: None, 64: None, 91: None, 92: None, 93: None, 94: None, 95: None, 96: None, 123: None, 124: None, 125: None, 126: None}\n"
     ]
    }
   ],
   "source": [
    "print(remove_punct_dict)"
   ]
  },
  {
   "cell_type": "code",
   "execution_count": 10,
   "metadata": {},
   "outputs": [
    {
     "name": "stdout",
     "output_type": "stream",
     "text": [
      "['overview', 'depression', 'is', 'a', 'mood', 'disorder', 'that', 'causes', 'a', 'persistent', 'feeling', 'of', 'sadness', 'and', 'loss', 'of', 'interest', 'also', 'called', 'major', 'depressive', 'disorder', 'or', 'clinical', 'depression', 'it', 'affects', 'how', 'you', 'feel', 'think', 'and', 'behave', 'and', 'can', 'lead', 'to', 'a', 'variety', 'of', 'emotional', 'and', 'physical', 'problems', 'you', 'may', 'have', 'trouble', 'doing', 'normal', 'daytoday', 'activities', 'and', 'sometimes', 'you', 'may', 'feel', 'as', 'if', 'life', 'isnt', 'worth', 'living', 'more', 'than', 'just', 'a', 'bout', 'of', 'the', 'blues', 'depression', 'isnt', 'a', 'weakness', 'and', 'you', 'cant', 'simply', 'snap', 'out', 'of', 'it', 'depression', 'may', 'require', 'longterm', 'treatment', 'but', 'dont', 'get', 'discouraged', 'most', 'people', 'with', 'depression', 'feel', 'better', 'with', 'medication', 'psychotherapy', 'or', 'both', 'depression', 'care', 'at', 'mayo', 'clinic', 'symptoms', 'although', 'depression', 'may', 'occur', 'only', 'once', 'during', 'your', 'life', 'people', 'typically', 'have', 'multiple', 'episodes', 'during', 'these', 'episodes', 'symptoms', 'occur', 'most', 'of', 'the', 'day', 'nearly', 'every', 'day', 'and', 'may', 'include', 'feelings', 'of', 'sadness', 'tearfulness', 'emptiness', 'or', 'hopelessness', 'angry', 'outbursts', 'irritability', 'or', 'frustration', 'even', 'over', 'small', 'matters', 'loss', 'of', 'interest', 'or', 'pleasure', 'in', 'most', 'or', 'all', 'normal', 'activities', 'such', 'as', 'sex', 'hobbies', 'or', 'sports', 'sleep', 'disturbances', 'including', 'insomnia', 'or', 'sleeping', 'too', 'much', 'tiredness', 'and', 'lack', 'of', 'energy', 'so', 'even', 'small', 'tasks', 'take', 'extra', 'effort', 'reduced', 'appetite', 'and', 'weight', 'loss', 'or', 'increased', 'cravings', 'for', 'food', 'and', 'weight', 'gain', 'anxiety', 'agitation', 'or', 'restlessness', 'slowed', 'thinking', 'speaking', 'or', 'body', 'movements', 'feelings', 'of', 'worthlessness', 'or', 'guilt', 'fixating', 'on', 'past', 'failures', 'or', 'selfblame', 'trouble', 'thinking', 'concentrating', 'making', 'decisions', 'and', 'remembering', 'things', 'frequent', 'or', 'recurrent', 'thoughts', 'of', 'death', 'suicidal', 'thoughts', 'suicide', 'attempts', 'or', 'suicide', 'unexplained', 'physical', 'problems', 'such', 'as', 'back', 'pain', 'or', 'headaches', 'for', 'many', 'people', 'with', 'depression', 'symptoms', 'usually', 'are', 'severe', 'enough', 'to', 'cause', 'noticeable', 'problems', 'in', 'daytoday', 'activities', 'such', 'as', 'work', 'school', 'social', 'activities', 'or', 'relationships', 'with', 'others', 'some', 'people', 'may', 'feel', 'generally', 'miserable', 'or', 'unhappy', 'without', 'really', 'knowing', 'why', 'depression', 'symptoms', 'in', 'children', 'and', 'teens', 'common', 'signs', 'and', 'symptoms', 'of', 'depression', 'in', 'children', 'and', 'teenagers', 'are', 'similar', 'to', 'those', 'of', 'adults', 'but', 'there', 'can', 'be', 'some', 'differences', 'in', 'younger', 'children', 'symptoms', 'of', 'depression', 'may', 'include', 'sadness', 'irritability', 'clinginess', 'worry', 'aches', 'and', 'pains', 'refusing', 'to', 'go', 'to', 'school', 'or', 'being', 'underweight', 'in', 'teens', 'symptoms', 'may', 'include', 'sadness', 'irritability', 'feeling', 'negative', 'and', 'worthless', 'anger', 'poor', 'performance', 'or', 'poor', 'attendance', 'at', 'school', 'feeling', 'misunderstood', 'and', 'extremely', 'sensitive', 'using', 'recreational', 'drugs', 'or', 'alcohol', 'eating', 'or', 'sleeping', 'too', 'much', 'selfharm', 'loss', 'of', 'interest', 'in', 'normal', 'activities', 'and', 'avoidance', 'of', 'social', 'interaction', 'depression', 'symptoms', 'in', 'older', 'adults', 'depression', 'is', 'not', 'a', 'normal', 'part', 'of', 'growing', 'older', 'and', 'it', 'should', 'never', 'be', 'taken', 'lightly', 'unfortunately', 'depression', 'often', 'goes', 'undiagnosed', 'and', 'untreated', 'in', 'older', 'adults', 'and', 'they', 'may', 'feel', 'reluctant', 'to', 'seek', 'help', 'symptoms', 'of', 'depression', 'may', 'be', 'different', 'or', 'less', 'obvious', 'in', 'older', 'adults', 'such', 'as', 'memory', 'difficulties', 'or', 'personality', 'changes', 'physical', 'aches', 'or', 'pain', 'fatigue', 'loss', 'of', 'appetite', 'sleep', 'problems', 'or', 'loss', 'of', 'interest', 'in', 'sex', '—', 'not', 'caused', 'by', 'a', 'medical', 'condition', 'or', 'medication', 'often', 'wanting', 'to', 'stay', 'at', 'home', 'rather', 'than', 'going', 'out', 'to', 'socialize', 'or', 'doing', 'new', 'things', 'suicidal', 'thinking', 'or', 'feelings', 'especially', 'in', 'older', 'men', 'when', 'to', 'see', 'a', 'doctor', 'if', 'you', 'feel', 'depressed', 'make', 'an', 'appointment', 'to', 'see', 'your', 'doctor', 'or', 'mental', 'health', 'professional', 'as', 'soon', 'as', 'you', 'can', 'if', 'youre', 'reluctant', 'to', 'seek', 'treatment', 'talk', 'to', 'a', 'friend', 'or', 'loved', 'one', 'any', 'health', 'care', 'professional', 'a', 'faith', 'leader', 'or', 'someone', 'else', 'you', 'trust', 'when', 'to', 'get', 'emergency', 'help', 'if', 'you', 'think', 'you', 'may', 'hurt', 'yourself', 'or', 'attempt', 'suicide', 'call', '911', 'or', 'your', 'local', 'emergency', 'number', 'immediately', 'also', 'consider', 'these', 'options', 'if', 'youre', 'having', 'suicidal', 'thoughts', 'call', 'your', 'doctor', 'or', 'mental', 'health', 'professional', 'call', 'a', 'suicide', 'hotline', 'number', '—', 'in', 'the', 'us', 'call', 'the', 'national', 'suicide', 'prevention', 'lifeline', 'at', '1800273talk', '18002738255', 'use', 'that', 'same', 'number', 'and', 'press', '1', 'to', 'reach', 'the', 'veterans', 'crisis', 'line', 'reach', 'out', 'to', 'a', 'close', 'friend', 'or', 'loved', 'one', 'contact', 'a', 'minister', 'spiritual', 'leader', 'or', 'someone', 'else', 'in', 'your', 'faith', 'community', 'if', 'you', 'have', 'a', 'loved', 'one', 'who', 'is', 'in', 'danger', 'of', 'suicide', 'or', 'has', 'made', 'a', 'suicide', 'attempt', 'make', 'sure', 'someone', 'stays', 'with', 'that', 'person', 'call', '911', 'or', 'your', 'local', 'emergency', 'number', 'immediately', 'or', 'if', 'you', 'think', 'you', 'can', 'do', 'so', 'safely', 'take', 'the', 'person', 'to', 'the', 'nearest', 'hospital', 'emergency', 'room', 'causes', 'its', 'not', 'known', 'exactly', 'what', 'causes', 'depression', 'as', 'with', 'many', 'mental', 'disorders', 'a', 'variety', 'of', 'factors', 'may', 'be', 'involved', 'such', 'as', 'biological', 'differences', 'people', 'with', 'depression', 'appear', 'to', 'have', 'physical', 'changes', 'in', 'their', 'brains', 'the', 'significance', 'of', 'these', 'changes', 'is', 'still', 'uncertain', 'but', 'may', 'eventually', 'help', 'pinpoint', 'causes', 'people', 'with', 'depression', 'appear', 'to', 'have', 'physical', 'changes', 'in', 'their', 'brains', 'the', 'significance', 'of', 'these', 'changes', 'is', 'still', 'uncertain', 'but', 'may', 'eventually', 'help', 'pinpoint', 'causes', 'brain', 'chemistry', 'neurotransmitters', 'are', 'naturally', 'occurring', 'brain', 'chemicals', 'that', 'likely', 'play', 'a', 'role', 'in', 'depression', 'recent', 'research', 'indicates', 'that', 'changes', 'in', 'the', 'function', 'and', 'effect', 'of', 'these', 'neurotransmitters', 'and', 'how', 'they', 'interact', 'with', 'neurocircuits', 'involved', 'in', 'maintaining', 'mood', 'stability', 'may', 'play', 'a', 'significant', 'role', 'in', 'depression', 'and', 'its', 'treatment', 'neurotransmitters', 'are', 'naturally', 'occurring', 'brain', 'chemicals', 'that', 'likely', 'play', 'a', 'role', 'in', 'depression', 'recent', 'research', 'indicates', 'that', 'changes', 'in', 'the', 'function', 'and', 'effect', 'of', 'these', 'neurotransmitters', 'and', 'how', 'they', 'interact', 'with', 'neurocircuits', 'involved', 'in', 'maintaining', 'mood', 'stability', 'may', 'play', 'a', 'significant', 'role', 'in', 'depression', 'and', 'its', 'treatment', 'hormones', 'changes', 'in', 'the', 'bodys', 'balance', 'of', 'hormones', 'may', 'be', 'involved', 'in', 'causing', 'or', 'triggering', 'depression', 'hormone', 'changes', 'can', 'result', 'with', 'pregnancy', 'and', 'during', 'the', 'weeks', 'or', 'months', 'after', 'delivery', 'postpartum', 'and', 'from', 'thyroid', 'problems', 'menopause', 'or', 'a', 'number', 'of', 'other', 'conditions', 'changes', 'in', 'the', 'bodys', 'balance', 'of', 'hormones', 'may', 'be', 'involved', 'in', 'causing', 'or', 'triggering', 'depression', 'hormone', 'changes', 'can', 'result', 'with', 'pregnancy', 'and', 'during', 'the', 'weeks', 'or', 'months', 'after', 'delivery', 'postpartum', 'and', 'from', 'thyroid', 'problems', 'menopause', 'or', 'a', 'number', 'of', 'other', 'conditions', 'inherited', 'traits', 'depression', 'is', 'more', 'common', 'in', 'people', 'whose', 'blood', 'relatives', 'also', 'have', 'this', 'condition', 'researchers', 'are', 'trying', 'to', 'find', 'genes', 'that', 'may', 'be', 'involved', 'in', 'causing', 'depression', 'risk', 'factors', 'depression', 'often', 'begins', 'in', 'the', 'teens', '20s', 'or', '30s', 'but', 'it', 'can', 'happen', 'at', 'any', 'age', 'more', 'women', 'than', 'men', 'are', 'diagnosed', 'with', 'depression', 'but', 'this', 'may', 'be', 'due', 'in', 'part', 'because', 'women', 'are', 'more', 'likely', 'to', 'seek', 'treatment', 'factors', 'that', 'seem', 'to', 'increase', 'the', 'risk', 'of', 'developing', 'or', 'triggering', 'depression', 'include', 'certain', 'personality', 'traits', 'such', 'as', 'low', 'selfesteem', 'and', 'being', 'too', 'dependent', 'selfcritical', 'or', 'pessimistic', 'traumatic', 'or', 'stressful', 'events', 'such', 'as', 'physical', 'or', 'sexual', 'abuse', 'the', 'death', 'or', 'loss', 'of', 'a', 'loved', 'one', 'a', 'difficult', 'relationship', 'or', 'financial', 'problems', 'blood', 'relatives', 'with', 'a', 'history', 'of', 'depression', 'bipolar', 'disorder', 'alcoholism', 'or', 'suicide', 'being', 'lesbian', 'gay', 'bisexual', 'or', 'transgender', 'or', 'having', 'variations', 'in', 'the', 'development', 'of', 'genital', 'organs', 'that', 'arent', 'clearly', 'male', 'or', 'female', 'intersex', 'in', 'an', 'unsupportive', 'situation', 'history', 'of', 'other', 'mental', 'health', 'disorders', 'such', 'as', 'anxiety', 'disorder', 'eating', 'disorders', 'or', 'posttraumatic', 'stress', 'disorder', 'abuse', 'of', 'alcohol', 'or', 'recreational', 'drugs', 'serious', 'or', 'chronic', 'illness', 'including', 'cancer', 'stroke', 'chronic', 'pain', 'or', 'heart', 'disease', 'certain', 'medications', 'such', 'as', 'some', 'high', 'blood', 'pressure', 'medications', 'or', 'sleeping', 'pills', 'talk', 'to', 'your', 'doctor', 'before', 'stopping', 'any', 'medication', 'complications', 'depression', 'is', 'a', 'serious', 'disorder', 'that', 'can', 'take', 'a', 'terrible', 'toll', 'on', 'you', 'and', 'your', 'family', 'depression', 'often', 'gets', 'worse', 'if', 'it', 'isnt', 'treated', 'resulting', 'in', 'emotional', 'behavioral', 'and', 'health', 'problems', 'that', 'affect', 'every', 'area', 'of', 'your', 'life', 'examples', 'of', 'complications', 'associated', 'with', 'depression', 'include', 'excess', 'weight', 'or', 'obesity', 'which', 'can', 'lead', 'to', 'heart', 'disease', 'and', 'diabetes', 'pain', 'or', 'physical', 'illness', 'alcohol', 'or', 'drug', 'misuse', 'anxiety', 'panic', 'disorder', 'or', 'social', 'phobia', 'family', 'conflicts', 'relationship', 'difficulties', 'and', 'work', 'or', 'school', 'problems', 'social', 'isolation', 'suicidal', 'feelings', 'suicide', 'attempts', 'or', 'suicide', 'selfmutilation', 'such', 'as', 'cutting', 'premature', 'death', 'from', 'medical', 'conditions', 'prevention', 'theres', 'no', 'sure', 'way', 'to', 'prevent', 'depression', 'however', 'these', 'strategies', 'may', 'help']\n"
     ]
    }
   ],
   "source": [
    "#lemmatization\n",
    "def lemmatizing(text):\n",
    "    return nltk.word_tokenize(text.lower().translate(remove_punct_dict))\n",
    "print(lemmatizing(text))"
   ]
  },
  {
   "cell_type": "code",
   "execution_count": 11,
   "metadata": {},
   "outputs": [],
   "source": [
    "#Keyword Matching and Greetings\n",
    "greeting_inputs=['hello','Hola','Hi','whats up','hey']\n",
    "greeting_response=['hi','hello','howdy','hola','hey',\"what's good\"]\n",
    "def greeting(sentence):\n",
    "    for word in sentence.split():\n",
    "        if word.lower()in greeting_inputs:\n",
    "            return random.choice(greeting_response)"
   ]
  },
  {
   "cell_type": "code",
   "execution_count": 12,
   "metadata": {},
   "outputs": [],
   "source": [
    "#Generate Response\n",
    "def response (user_response): \n",
    "    \n",
    "    #user response/ query\n",
    "    #user_response='What is depression?'\n",
    "    user_response=user_response.lower()\n",
    "    #print(user_response)\n",
    "\n",
    "\n",
    "    #set the chatbot response to an empty string\n",
    "    robo_response=''\n",
    "\n",
    "    #append the user response to the sentence list\n",
    "    sent_tokens.append(user_response)\n",
    "    #print('Sentence tokens: ',sent_tokens)\n",
    "\n",
    "    #Tfidf vectorizer \n",
    "    TfidfVec=TfidfVectorizer(tokenizer=lemmatizing,stop_words='english')\n",
    "\n",
    "    #convert the text to a matrix of Tfidf features\n",
    "    tfidf=TfidfVec.fit_transform(sent_tokens)\n",
    "    #print(\"Tfidf features: \",tfidf)\n",
    "\n",
    "    #Get the measure of similarity(similarity score)\n",
    "    vals=cosine_similarity(tfidf[-1],tfidf)\n",
    "    #print(\"Similarity scores: \" ,vals)\n",
    "\n",
    "    #Get the index of the most similar sentence to the user response\n",
    "    idx=vals.argsort()[0][-2]\n",
    "\n",
    "    #Reduce the dimensionality of vals\n",
    "    flat=vals.flatten()\n",
    "\n",
    "    #sort the list in ascending order\n",
    "    flat.sort()\n",
    "\n",
    "    #Get the most similar score to the user response\n",
    "    score=flat[-2]\n",
    "    #print(score)\n",
    "\n",
    "    #if the variable score is 0 then there is no text similar to the user response\n",
    "    if(score==0):\n",
    "        robo_response=robo_response+\"I don't understand!\"\n",
    "    else:\n",
    "        robo_response=robo_response+sent_tokens[idx]\n",
    "\n",
    "    #print(\"Bot Response: \",robo_response)   \n",
    "    \n",
    "    #remove the user response\n",
    "    sent_tokens.remove(user_response)\n",
    "    \n",
    "    return robo_response"
   ]
  },
  {
   "cell_type": "code",
   "execution_count": 13,
   "metadata": {},
   "outputs": [
    {
     "name": "stdout",
     "output_type": "stream",
     "text": [
      "DocBot: I will answer your queries about Depression disease. if you want to exit just type bye\n",
      "hey\n",
      "DocBot: what's good\n",
      "what is depression?\n",
      "DocBot: Depression symptoms in older adults\n",
      "\n",
      "Depression is not a normal part of growing older, and it should never be taken lightly.\n",
      "what are the symptoms of depression?\n",
      "DocBot: Depression symptoms in children and teens\n",
      "\n",
      "Common signs and symptoms of depression in children and teenagers are similar to those of adults, but there can be some differences.\n",
      "thanks\n",
      "DocBot: you are welcome!\n"
     ]
    }
   ],
   "source": [
    "#creat a loop to chat with the chatbot\n",
    "flag=True\n",
    "print(\"DocBot: I will answer your queries about Depression disease. if you want to exit just type bye\")\n",
    "while(flag==True):\n",
    "    user_response=input()\n",
    "    user_response=user_response.lower()\n",
    "    if(user_response!='bye'):\n",
    "        if(user_response=='thanks'or user_response=='thank you'):\n",
    "            flag=False\n",
    "            print(\"DocBot: you are welcome!\")\n",
    "        else: \n",
    "            if(greeting(user_response)!=None):\n",
    "                print(\"DocBot: \"+greeting(user_response))\n",
    "            else:\n",
    "                print(\"DocBot: \"+response(user_response))\n",
    "                \n",
    "    else:\n",
    "        flag=False\n",
    "        print(\"DocBot: Chat with you later ! \")"
   ]
  },
  {
   "cell_type": "code",
   "execution_count": null,
   "metadata": {},
   "outputs": [],
   "source": []
  },
  {
   "cell_type": "code",
   "execution_count": null,
   "metadata": {},
   "outputs": [],
   "source": []
  }
 ],
 "metadata": {
  "kernelspec": {
   "display_name": "Python 3",
   "language": "python",
   "name": "python3"
  },
  "language_info": {
   "codemirror_mode": {
    "name": "ipython",
    "version": 3
   },
   "file_extension": ".py",
   "mimetype": "text/x-python",
   "name": "python",
   "nbconvert_exporter": "python",
   "pygments_lexer": "ipython3",
   "version": "3.7.4"
  }
 },
 "nbformat": 4,
 "nbformat_minor": 2
}
